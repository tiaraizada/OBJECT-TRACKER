{
 "cells": [
  {
   "cell_type": "code",
   "execution_count": 1,
   "metadata": {},
   "outputs": [],
   "source": [
    "import cv2\n",
    "import matplotlib.pyplot as plt\n",
    "%matplotlib qt6\n"
   ]
  },
  {
   "cell_type": "code",
   "execution_count": 2,
   "metadata": {},
   "outputs": [],
   "source": [
    "import cv2\n",
    "\n",
    "def capture_image():\n",
    "    # Initialize video capture\n",
    "    cap = cv2.VideoCapture(0)  # 0 corresponds to the default camera, change it if you have multiple cameras\n",
    "\n",
    "    # Check if the camera is opened successfully\n",
    "    if not cap.isOpened():\n",
    "        print(\"Error: Unable to open camera.\")\n",
    "        return\n",
    "\n",
    "    # Capture a single frame\n",
    "    ret, frame = cap.read()\n",
    "\n",
    "    # Check if the frame is captured successfully\n",
    "    if not ret:\n",
    "        print(\"Error: Unable to capture frame.\")\n",
    "        cap.release()\n",
    "        return\n",
    "\n",
    "    # Display the captured image\n",
    "    cv2.imshow(\"Captured Image\", frame)\n",
    "    cv2.waitKey(0)  # Wait indefinitely until a key is pressed\n",
    "\n",
    "    # Release the video capture object and close all windows\n",
    "    cap.release()\n",
    "    cv2.destroyAllWindows()\n",
    "    cv2.imwrite(\"captured.jpg\",frame)\n",
    "\n",
    "if __name__ == \"__main__\":\n",
    "    capture_image()"
   ]
  },
  {
   "cell_type": "code",
   "execution_count": 4,
   "metadata": {},
   "outputs": [],
   "source": [
    "image = cv2.imread(\"captured.jpg\")\n",
    "\n",
    "# Convert the image from BGR to RGB\n",
    "image_rgb = cv2.cvtColor(image, cv2.COLOR_BGR2RGB)\n",
    "\n",
    "# Convert the image from RGB to HSV\n",
    "image_hsv = cv2.cvtColor(image_rgb, cv2.COLOR_RGB2HSV)"
   ]
  },
  {
   "cell_type": "code",
   "execution_count": 5,
   "metadata": {},
   "outputs": [
    {
     "data": {
      "text/plain": [
       "<function matplotlib.pyplot.show(*, block=None)>"
      ]
     },
     "execution_count": 5,
     "metadata": {},
     "output_type": "execute_result"
    }
   ],
   "source": [
    "plt.imshow(image_hsv)\n",
    "plt.show"
   ]
  },
  {
   "cell_type": "code",
   "execution_count": 6,
   "metadata": {},
   "outputs": [],
   "source": [
    "import cv2\n",
    "\n",
    "object_lower = (100, 190, 60)\n",
    "object_upper = (130, 255, 255)\n",
    "# object_lower = (90, 120, 200)\n",
    "# object_upper = (110, 250, 255)0\n",
    "cap = cv2.VideoCapture(0)\n",
    "\n",
    "while True:\n",
    " \n",
    "    ret, frame = cap.read()\n",
    "    blurred = cv2.GaussianBlur(frame, (7, 7), 0)\n",
    "    hsv = cv2.cvtColor(frame, cv2.COLOR_BGR2HSV)\n",
    "    mask = cv2.inRange(hsv, object_lower, object_upper)\n",
    "    contours, _ = cv2.findContours(mask, cv2.RETR_EXTERNAL, cv2.CHAIN_APPROX_SIMPLE)\n",
    "\n",
    "    min_area = 1000\n",
    "    max_area = 100000\n",
    "    contours = [c for c in contours if min_area < cv2.contourArea(c) < max_area]\n",
    "\n",
    "    if len(contours) > 0:\n",
    "        largest_contour = max(contours, key=cv2.contourArea)\n",
    "        x, y, w, h = cv2.boundingRect(largest_contour)\n",
    "        cv2.rectangle(frame, (x, y), (x+w, y+h), (255, 0, 0), 2)\n",
    "\n",
    "   \n",
    "    cv2.imshow('Object Detection', frame)\n",
    "    cv2.imshow(\"masked\",mask)\n",
    "    cv2.imshow('hsv',hsv)\n",
    "   \n",
    "\n",
    "    \n",
    "    if cv2.waitKey(1) & 0xFF == ord('q'):\n",
    "        break\n",
    "\n",
    "cap.release()\n",
    "cv2.destroyAllWindows()"
   ]
  }
 ],
 "metadata": {
  "kernelspec": {
   "display_name": "workshop1",
   "language": "python",
   "name": "python3"
  },
  "language_info": {
   "codemirror_mode": {
    "name": "ipython",
    "version": 3
   },
   "file_extension": ".py",
   "mimetype": "text/x-python",
   "name": "python",
   "nbconvert_exporter": "python",
   "pygments_lexer": "ipython3",
   "version": "3.11.9"
  }
 },
 "nbformat": 4,
 "nbformat_minor": 2
}
